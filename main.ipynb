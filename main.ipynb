{
 "cells": [
  {
   "cell_type": "code",
   "execution_count": 37,
   "id": "8b9c1179",
   "metadata": {},
   "outputs": [],
   "source": [
    "import cv2\n",
    "import os\n",
    "from tqdm.notebook import tqdm\n",
    "from pathlib import Path\n",
    "from IPython.display import display, clear_output"
   ]
  },
  {
   "cell_type": "code",
   "execution_count": 2,
   "id": "e50e5261",
   "metadata": {},
   "outputs": [],
   "source": [
    "import kagglehub\n",
    "\n",
    "dataset_path = kagglehub.dataset_download(\"jehanbhathena/weather-dataset\")"
   ]
  },
  {
   "cell_type": "code",
   "execution_count": 27,
   "id": "4a7781aa",
   "metadata": {},
   "outputs": [],
   "source": [
    "image_paths = []\n",
    "for root, dirs, files in os.walk(dataset_path):\n",
    "    for file in files:\n",
    "        if file.lower().endswith(('.jpg')):\n",
    "            image_paths.append(os.path.join(root, file))"
   ]
  },
  {
   "cell_type": "code",
   "execution_count": 45,
   "id": "5345b6b3",
   "metadata": {},
   "outputs": [
    {
     "data": {
      "text/plain": [
       "'/root/.cache/kagglehub/datasets/jehanbhathena/weather-dataset/versions/3/dataset/fogsmog/4357.jpg'"
      ]
     },
     "execution_count": 45,
     "metadata": {},
     "output_type": "execute_result"
    }
   ],
   "source": [
    "image_paths[3470]"
   ]
  },
  {
   "cell_type": "code",
   "execution_count": 47,
   "id": "f7cd9c71",
   "metadata": {},
   "outputs": [],
   "source": [
    "def create_bw_dataset(image_paths, output_dir):\n",
    "\tif not os.path.exists(output_dir):\n",
    "\t\tos.makedirs(output_dir)\n",
    "\tprogress_bar = tqdm(total=len(image_paths), desc=\"Creating bw images\", unit=\"image\")\n",
    "\tfor image_id in range(len(image_paths)):\n",
    "\t\ttry:\n",
    "\t\t\timage = cv2.imread(image_paths[image_id])\n",
    "\t\t\tgray = cv2.cvtColor(image, cv2.COLOR_BGR2GRAY)\n",
    "\t\texcept Exception:\n",
    "\t\t\tprint(f\"Error reading image {image_paths[image_id]}\")\n",
    "\t\t\tprogress_bar.update(1)\n",
    "\t\t\tcontinue\n",
    "\t\tfor x in range(len(gray)):\n",
    "\t\t\tfor y in range(len(gray[x])):\n",
    "\t\t\t\tif gray[x][y] < 128:\n",
    "\t\t\t\t\tgray[x][y] = 0\n",
    "\t\t\t\telse:\n",
    "\t\t\t\t\tgray[x][y] = 255\n",
    "\t\tcv2.imwrite(Path(output_dir) / f\"img{image_id}.jpg\", gray)\n",
    "\t\tprogress_bar.update(1)\n",
    "\tprogress_bar.close()"
   ]
  },
  {
   "cell_type": "code",
   "execution_count": 48,
   "id": "4adc96b1",
   "metadata": {},
   "outputs": [
    {
     "data": {
      "application/vnd.jupyter.widget-view+json": {
       "model_id": "e7c48519b7324ab19a10db28461e8176",
       "version_major": 2,
       "version_minor": 0
      },
      "text/plain": [
       "Creating bw images:   0%|          | 0/6862 [00:00<?, ?image/s]"
      ]
     },
     "metadata": {},
     "output_type": "display_data"
    },
    {
     "name": "stderr",
     "output_type": "stream",
     "text": [
      "libpng warning: iCCP: known incorrect sRGB profile\n"
     ]
    },
    {
     "name": "stdout",
     "output_type": "stream",
     "text": [
      "Error reading image /root/.cache/kagglehub/datasets/jehanbhathena/weather-dataset/versions/3/dataset/fogsmog/4514.jpg\n",
      "Error reading image /root/.cache/kagglehub/datasets/jehanbhathena/weather-dataset/versions/3/dataset/snow/1187.jpg\n"
     ]
    },
    {
     "name": "stderr",
     "output_type": "stream",
     "text": [
      "libpng warning: iCCP: known incorrect sRGB profile\n",
      "libpng warning: iCCP: known incorrect sRGB profile\n"
     ]
    }
   ],
   "source": [
    "create_bw_dataset(image_paths, \"train\")"
   ]
  }
 ],
 "metadata": {
  "kernelspec": {
   "display_name": "Python 3",
   "language": "python",
   "name": "python3"
  },
  "language_info": {
   "codemirror_mode": {
    "name": "ipython",
    "version": 3
   },
   "file_extension": ".py",
   "mimetype": "text/x-python",
   "name": "python",
   "nbconvert_exporter": "python",
   "pygments_lexer": "ipython3",
   "version": "3.11.9"
  }
 },
 "nbformat": 4,
 "nbformat_minor": 5
}
